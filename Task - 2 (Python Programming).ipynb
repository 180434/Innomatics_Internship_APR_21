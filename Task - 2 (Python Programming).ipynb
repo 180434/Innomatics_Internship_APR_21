{
 "cells": [
  {
   "cell_type": "code",
   "execution_count": 1,
   "metadata": {},
   "outputs": [
    {
     "name": "stdout",
     "output_type": "stream",
     "text": [
      "2\n",
      "1\n",
      "2\n",
      "3\n",
      "[[0, 0, 0], [0, 0, 1], [0, 0, 2], [0, 1, 0], [0, 1, 1], [1, 0, 0], [1, 0, 1], [1, 1, 0], [1, 1, 2], [2, 0, 0], [2, 0, 2], [2, 1, 1], [2, 1, 2]]\n"
     ]
    }
   ],
   "source": [
    "# Question 1\n",
    "\n",
    "if __name__ == '__main__':\n",
    "    x = int(input())\n",
    "    y = int(input())\n",
    "    z = int(input())\n",
    "    n = int(input())\n",
    "    \n",
    "    lst=[]\n",
    "    \n",
    "    for i in range(x+1):\n",
    "        for j in range(y+1):\n",
    "            for k in range(z+1):\n",
    "                sum=i+j+k\n",
    "                if sum!=n:\n",
    "                    l=[]\n",
    "                    l.append(i) \n",
    "                    l.append(j)\n",
    "                    l.append(k)\n",
    "                    lst.append(l)\n",
    "    \n",
    "    print(lst)\n",
    "                   "
   ]
  },
  {
   "cell_type": "code",
   "execution_count": 2,
   "metadata": {},
   "outputs": [
    {
     "name": "stdout",
     "output_type": "stream",
     "text": [
      "5\n",
      "2 4 3 3 5\n",
      "4\n"
     ]
    }
   ],
   "source": [
    "# Question 2\n",
    "\n",
    "if __name__ == '__main__':\n",
    "    n = int(input())\n",
    "    arr = map(int, input().split())\n",
    "    lst=[]\n",
    "    \n",
    "    for i in arr:\n",
    "        lst.append(i)\n",
    "    lst.sort()\n",
    "    \n",
    "    for i in range(n-1,0,-1):\n",
    "        if lst[i]!=lst[i-1]:\n",
    "            print(lst[i-1])\n",
    "            break\n",
    "        "
   ]
  },
  {
   "cell_type": "code",
   "execution_count": 4,
   "metadata": {},
   "outputs": [
    {
     "name": "stdout",
     "output_type": "stream",
     "text": [
      "5\n",
      "Harry\n",
      "37.21\n",
      "Berry\n",
      "37.21\n",
      "Tina\n",
      "37.2\n",
      "Akriti\n",
      "41\n",
      "Harsh\n",
      "39\n",
      "Berry\n",
      "Harry\n"
     ]
    }
   ],
   "source": [
    "# Question 3\n",
    "\n",
    "def sortSecond(val):\n",
    "    return val[1] \n",
    "    \n",
    "if __name__ == '__main__':\n",
    "    \n",
    "    lst=[]\n",
    "    for i in range(int(input())):\n",
    "        name = input()\n",
    "        score = float(input())\n",
    "        l=[]\n",
    "        l.append(name)\n",
    "        l.append(score)\n",
    "        lst.append(l)\n",
    "    \n",
    "    lst.sort(key=sortSecond)\n",
    "    k=0\n",
    "    for i in range(len(lst)):\n",
    "        if lst[i][1]!=lst[i+1][1]:\n",
    "            k=lst[i+1][1]\n",
    "            break\n",
    "    \n",
    "    l=[]\n",
    "    for j in range(i+1,len(lst)):\n",
    "        if k==lst[j][1]:\n",
    "            l.append(lst[j][0])\n",
    "        else:\n",
    "            break\n",
    "    \n",
    "    l.sort()\n",
    "    for i in range(len(l)):\n",
    "        print(l[i])\n",
    "        \n",
    "        \n",
    "        "
   ]
  },
  {
   "cell_type": "code",
   "execution_count": 5,
   "metadata": {},
   "outputs": [
    {
     "name": "stdout",
     "output_type": "stream",
     "text": [
      "3\n",
      "krishna 67 68 69\n",
      "Arjun 70 98 63\n",
      "Malika 52 56 60\n",
      "Malika\n",
      "56.00\n"
     ]
    }
   ],
   "source": [
    "# Question 4\n",
    "\n",
    "if __name__ == '__main__':\n",
    "    n = int(input())\n",
    "    student_marks = {}\n",
    "    for _ in range(n):\n",
    "        name, *line = input().split()\n",
    "        scores = list(map(float, line))\n",
    "        student_marks[name] = scores\n",
    "    query_name = input()\n",
    "    \n",
    "    for x in student_marks:\n",
    "        if x==query_name:\n",
    "            lst=student_marks[x]\n",
    "            marks=0\n",
    "            for i in range(len(lst)):\n",
    "                marks+=lst[i]\n",
    "            \n",
    "            a=marks/len(lst)\n",
    "            print ('%.2f'%a)\n",
    "           "
   ]
  },
  {
   "cell_type": "code",
   "execution_count": 6,
   "metadata": {},
   "outputs": [
    {
     "name": "stdout",
     "output_type": "stream",
     "text": [
      "12\n",
      "insert 0 5\n",
      "insert 1 10\n",
      "insert 0 6\n",
      "print\n",
      "[6, 5, 10]\n",
      "remove 6\n",
      "append 9\n",
      "append 1\n",
      "sort\n",
      "print\n",
      "[1, 5, 9, 10]\n",
      "pop\n",
      "reverse\n",
      "print\n",
      "[9, 5, 1]\n"
     ]
    }
   ],
   "source": [
    "# Question 5:\n",
    "\n",
    "if __name__ == '__main__':\n",
    "    N = int(input())\n",
    "    lst=[]\n",
    "    for i in range(N):\n",
    "        x=input().split(' ')\n",
    "        if x[0]==\"insert\":\n",
    "            k=int(x[1])\n",
    "            l=int(x[2])\n",
    "            lst.insert(k,l)\n",
    "        elif x[0]==\"print\":\n",
    "            print(lst)\n",
    "        elif x[0]==\"remove\":\n",
    "            lst.remove(int(x[1]))\n",
    "        elif x[0]==\"append\":\n",
    "            lst.append(int(x[1]))\n",
    "        elif x[0]==\"sort\":\n",
    "            lst.sort()\n",
    "        elif x[0]==\"pop\":\n",
    "            lst.pop()\n",
    "        else:\n",
    "            lst.reverse()\n",
    "    \n",
    "    "
   ]
  },
  {
   "cell_type": "code",
   "execution_count": 7,
   "metadata": {},
   "outputs": [
    {
     "name": "stdout",
     "output_type": "stream",
     "text": [
      "2\n",
      "1 2\n",
      "-3550055125485641917\n"
     ]
    }
   ],
   "source": [
    "# Question 6:\n",
    "\n",
    "if __name__ == '__main__':\n",
    "    n = int(input())\n",
    "    integer_list = map(int, input().split())\n",
    "    lst=[]\n",
    "    for x in integer_list:\n",
    "        lst.append(x)\n",
    "    \n",
    "    tu=tuple(lst)\n",
    "    \n",
    "    print(hash(tu))"
   ]
  },
  {
   "cell_type": "code",
   "execution_count": 11,
   "metadata": {},
   "outputs": [
    {
     "name": "stdout",
     "output_type": "stream",
     "text": [
      "10\n",
      "161 182 161 154 176 170 167 171 170 174\n",
      "169.375\n"
     ]
    }
   ],
   "source": [
    "# Question 7:\n",
    "\n",
    "def average(array):\n",
    "    se={}\n",
    "    se=set()\n",
    "    for i in range(len(array)):\n",
    "        se.add(array[i])\n",
    "    \n",
    "    marks=0\n",
    "    for x in se:\n",
    "        marks+=x\n",
    "    \n",
    "    return (marks/len(se))\n",
    "        \n",
    "    # your code goes here\n",
    "\n",
    "if __name__ == '__main__':\n",
    "    n = int(input())\n",
    "    arr = list(map(int, input().split()))\n",
    "    result = average(arr)\n",
    "    print(result)"
   ]
  },
  {
   "cell_type": "code",
   "execution_count": 12,
   "metadata": {},
   "outputs": [
    {
     "name": "stdout",
     "output_type": "stream",
     "text": [
      "7\n",
      "UK\n",
      "China\n",
      "USA\n",
      "France\n",
      "New Zealand\n",
      "UK\n",
      "France\n",
      "5\n"
     ]
    }
   ],
   "source": [
    "# Question 8:\n",
    "\n",
    "# Enter your code here. Read input from STDIN. Print output to STDOUT\n",
    "n=int(input())\n",
    "\n",
    "se={}\n",
    "se=set()\n",
    "for i in range(n):\n",
    "    se.add(input())\n",
    "    \n",
    "print(len(se))\n"
   ]
  },
  {
   "cell_type": "code",
   "execution_count": 13,
   "metadata": {},
   "outputs": [
    {
     "name": "stdout",
     "output_type": "stream",
     "text": [
      "3 2\n",
      "1 5 3\n",
      "3 1\n",
      "5 7\n",
      "1\n"
     ]
    }
   ],
   "source": [
    "# Question 9:\n",
    "\n",
    "# Enter your code here. Read input from STDIN. Print output to STDOUT\n",
    "    \n",
    "N=input().split(' ')\n",
    "n=int(N[0])\n",
    "m=int(N[1])\n",
    "\n",
    "lst=input().split(' ')\n",
    "for i in range(n):\n",
    "    lst[i]=int(lst[i])\n",
    "\n",
    "A=input().split(' ')\n",
    "B=input().split(' ')\n",
    "\n",
    "k=set()\n",
    "t=set()\n",
    "for i in range(m):\n",
    "    k.add(int(A[i]))\n",
    "    t.add(int(B[i]))\n",
    "diff=0\n",
    "\n",
    "for i in lst:\n",
    "    if i in k:\n",
    "        diff+=1\n",
    "        \n",
    "    if i in t:\n",
    "        diff+=-1\n",
    "print(diff)\n",
    "\n",
    "\n"
   ]
  },
  {
   "cell_type": "code",
   "execution_count": 14,
   "metadata": {},
   "outputs": [
    {
     "name": "stdout",
     "output_type": "stream",
     "text": [
      "4\n",
      "2 4 5 9\n",
      "4\n",
      "2 4 11 12\n",
      "5\n",
      "9\n",
      "11\n",
      "12\n"
     ]
    }
   ],
   "source": [
    "# Question 10:\n",
    "\n",
    "n=int(input())\n",
    "a=set(input().split(' '))\n",
    "m=int(input())\n",
    "b=set(input().split(' '))\n",
    "\n",
    "t=set(a.difference(b))\n",
    "v=set(b.difference(a))\n",
    "\n",
    "lst=[]\n",
    "for x in t:\n",
    "    lst.append(int(x))\n",
    "for x in v:\n",
    "    lst.append(int(x))\n",
    "lst.sort()\n",
    "\n",
    "for i in lst:\n",
    "    print(i)"
   ]
  },
  {
   "cell_type": "code",
   "execution_count": 15,
   "metadata": {},
   "outputs": [
    {
     "name": "stdout",
     "output_type": "stream",
     "text": [
      "9\n",
      "1 2 3 4 5 6 7 8 9\n",
      "10\n",
      "pop\n",
      "remove 9\n",
      "discard 9\n",
      "discard 8\n",
      "remove 7\n",
      "pop\n",
      "discard 6\n",
      "remove 5\n",
      "pop\n",
      "discard 5\n",
      "4\n"
     ]
    }
   ],
   "source": [
    "# Question 11:\n",
    "\n",
    "n = int(input())\n",
    "s = set(map(int, input().split()))\n",
    "\n",
    "m=int(input())\n",
    "\n",
    "for i in range(m):\n",
    "    x=input().split(' ')\n",
    "    if x[0]==\"pop\":\n",
    "        s.pop()\n",
    "    elif x[0]==\"remove\":\n",
    "        s.remove(int(x[1]))\n",
    "    else:\n",
    "        s.discard(int(x[1]))\n",
    "\n",
    "ans=0\n",
    "for x in s:\n",
    "    ans+=x\n",
    "print(ans) "
   ]
  },
  {
   "cell_type": "code",
   "execution_count": 16,
   "metadata": {},
   "outputs": [
    {
     "name": "stdout",
     "output_type": "stream",
     "text": [
      "9\n",
      "1 2 3 4 5 6 7 8 9\n",
      "9\n",
      "10 1 2 3 11 21 55 6 8\n",
      "13\n"
     ]
    }
   ],
   "source": [
    "# Question 12:\n",
    "\n",
    "n=int(input())\n",
    "a=set(map(int,input().split(' ')))\n",
    "m=int(input())\n",
    "b=set(map(int,input().split(' ')))\n",
    "\n",
    "a=a.union(b)\n",
    "print(len(a))\n",
    "\n"
   ]
  },
  {
   "cell_type": "code",
   "execution_count": 17,
   "metadata": {},
   "outputs": [
    {
     "name": "stdout",
     "output_type": "stream",
     "text": [
      "9\n",
      "1 2 3 4 5 6 7 8 9\n",
      "9\n",
      "10 1 2 3 11 21 55 6 8\n",
      "5\n"
     ]
    }
   ],
   "source": [
    "# Question 13:\n",
    "\n",
    "\n",
    "n=int(input())\n",
    "a=set(map(int,input().split(' ')))\n",
    "m=int(input())\n",
    "b=set(map(int,input().split(' ')))\n",
    "\n",
    "a=a.intersection(b)\n",
    "\n",
    "print(len(a))"
   ]
  },
  {
   "cell_type": "code",
   "execution_count": 18,
   "metadata": {},
   "outputs": [
    {
     "name": "stdout",
     "output_type": "stream",
     "text": [
      "9\n",
      "1 2 3 4 5 6 7 8 9\n",
      "9\n",
      "10 1 2 3 11 21 55 6 8\n",
      "4\n"
     ]
    }
   ],
   "source": [
    "# Question 14:\n",
    "\n",
    "\n",
    "n=int(input())\n",
    "a=set(map(int,input().split(' ')))\n",
    "m=int(input())\n",
    "b=set(map(int,input().split(' ')))\n",
    "\n",
    "a=a.difference(b)\n",
    "\n",
    "print(len(a))"
   ]
  },
  {
   "cell_type": "code",
   "execution_count": 19,
   "metadata": {},
   "outputs": [
    {
     "name": "stdout",
     "output_type": "stream",
     "text": [
      "9\n",
      "1 2 3 4 5 6 7 8 9\n",
      "9\n",
      "10 1 2 3 11 21 55 6 8\n",
      "8\n"
     ]
    }
   ],
   "source": [
    "# Question 15:\n",
    "\n",
    "\n",
    "n=int(input())\n",
    "a=set(map(int,input().split(' ')))\n",
    "m=int(input())\n",
    "b=set(map(int,input().split(' ')))\n",
    "\n",
    "t=set(a.union(b))\n",
    "v=set(a.intersection(b))\n",
    "\n",
    "print(len(t)-len(v))"
   ]
  },
  {
   "cell_type": "code",
   "execution_count": 22,
   "metadata": {},
   "outputs": [
    {
     "name": "stdout",
     "output_type": "stream",
     "text": [
      "16\n",
      "1 2 3 4 5 6 7 8 9 10 11 12 13 14 24 52\n",
      "4\n",
      "intersection_update 10\n",
      "2 3 5 6 8 9 1 4 7 11\n",
      "update 2\n",
      "55 66\n",
      "symmetric_difference_update 5\n",
      "22 7 35 62 58\n",
      "difference_update 7\n",
      "11 22 35 55 58 62 66\n",
      "38\n"
     ]
    }
   ],
   "source": [
    "#Question 16:\n",
    "    \n",
    "    \n",
    "n=int(input())\n",
    "A=set(map(int,input().split(' ')))\n",
    "m=int(input())\n",
    "\n",
    "for i in range(m):\n",
    "    x=input().split(' ')\n",
    "    if x[0]==\"intersection_update\":\n",
    "        b=set(map(int,input().split(' ')))\n",
    "        A&=b\n",
    "    elif x[0]==\"update\":\n",
    "        b=set(map(int,input().split(' ')))\n",
    "        A|=b\n",
    "    elif x[0]==\"symmetric_difference_update\":\n",
    "        b=set(map(int,input().split(' ')))\n",
    "        A^=b\n",
    "    else:\n",
    "        b=set(map(int,input().split(' ')))\n",
    "        A-=b \n",
    "\n",
    "ans=0\n",
    "for x in A:\n",
    "    ans+=x\n",
    "print(ans)"
   ]
  },
  {
   "cell_type": "code",
   "execution_count": 23,
   "metadata": {},
   "outputs": [
    {
     "name": "stdout",
     "output_type": "stream",
     "text": [
      "5\n",
      "1 2 3 6 5 4 4 2 5 3 6 1 6 5 3 2 4 1 2 5 1 4 3 6 8 4 3 1 5 6 2\n",
      "8\n"
     ]
    }
   ],
   "source": [
    "# Question 17:\n",
    "\n",
    "\n",
    "k=int(input())\n",
    "lst=list(map(int,input().split(' ')))\n",
    "dic={}\n",
    "se=set()\n",
    "for i in range(len(lst)):\n",
    "    se.add(lst[i])\n",
    "\n",
    "for x in se:\n",
    "    dic[x]=0\n",
    "\n",
    "for i in lst:\n",
    "    dic[i]=dic[i]+1\n",
    "\n",
    "for x in dic:\n",
    "    if dic[x]==1:\n",
    "        print(x)\n",
    "        break\n",
    "    "
   ]
  },
  {
   "cell_type": "code",
   "execution_count": 24,
   "metadata": {},
   "outputs": [
    {
     "name": "stdout",
     "output_type": "stream",
     "text": [
      "3\n",
      "5\n",
      "1 2 3 5 6\n",
      "9 \n",
      "9 8 5 6 3 2 1 4 7\n",
      "True\n",
      "1\n",
      "2\n",
      "5\n",
      "3 6 5 4 1\n",
      "False\n",
      "7 \n",
      "1 2 3 5 6 8 9 \n",
      "3\n",
      "9 8 2\n",
      "False\n"
     ]
    }
   ],
   "source": [
    "# Question 18:\n",
    "\n",
    "t=int(input())\n",
    "\n",
    "while t!=0:\n",
    "    n=int(input())\n",
    "    a=set(map(int,input().split()))\n",
    "    m=int(input())\n",
    "    b=set(map(int,input().split()))\n",
    "    b=b-a\n",
    "    \n",
    "    if len(b)==(m-n):\n",
    "        print(\"True\")\n",
    "    else:\n",
    "        print(\"False\")\n",
    "    \n",
    "    t-=1"
   ]
  },
  {
   "cell_type": "code",
   "execution_count": 25,
   "metadata": {},
   "outputs": [
    {
     "name": "stdout",
     "output_type": "stream",
     "text": [
      "1 2 3 4 5 6 7 8 9 10 11 12 23 45 84 78\n",
      "2\n",
      "1 2 3 4 5\n",
      "100 11 12\n",
      "False\n"
     ]
    }
   ],
   "source": [
    "# Question 19:\n",
    "\n",
    "A=set(map(int,input().split()))\n",
    "\n",
    "n=int(input())\n",
    "f=1\n",
    "for i in range(n):\n",
    "    a=set(map(int,input().split()))\n",
    "    t=set(a-A)\n",
    "    u=set(A-a)\n",
    "    \n",
    "    if len(t)!=0 or len(u)==0:\n",
    "        f=0\n",
    "        break\n",
    "    \n",
    "    \n",
    "if f==1:\n",
    "    print(\"True\")\n",
    "else:\n",
    "    print(\"False\")\n",
    "        \n",
    "    \n"
   ]
  },
  {
   "cell_type": "code",
   "execution_count": null,
   "metadata": {},
   "outputs": [],
   "source": []
  }
 ],
 "metadata": {
  "kernelspec": {
   "display_name": "Python 3",
   "language": "python",
   "name": "python3"
  },
  "language_info": {
   "codemirror_mode": {
    "name": "ipython",
    "version": 3
   },
   "file_extension": ".py",
   "mimetype": "text/x-python",
   "name": "python",
   "nbconvert_exporter": "python",
   "pygments_lexer": "ipython3",
   "version": "3.8.3"
  }
 },
 "nbformat": 4,
 "nbformat_minor": 4
}
