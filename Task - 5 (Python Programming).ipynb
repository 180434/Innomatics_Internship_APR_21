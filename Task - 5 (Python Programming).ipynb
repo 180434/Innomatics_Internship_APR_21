{
 "cells": [
  {
   "cell_type": "code",
   "execution_count": 1,
   "metadata": {},
   "outputs": [
    {
     "name": "stdout",
     "output_type": "stream",
     "text": [
      "4\n",
      "4.0O0\n",
      "False\n",
      "-1.00\n",
      "True\n",
      "+4.54\n",
      "True\n",
      "SomeRandomStuff\n",
      "False\n"
     ]
    }
   ],
   "source": [
    "# Question 1:\n",
    "\n",
    "t=int(input())\n",
    "\n",
    "while t:\n",
    "    \n",
    "    num=input()\n",
    "    k=0\n",
    "    if num[0]=='+' or num[0]=='-':\n",
    "        k=1\n",
    "        \n",
    "    ct=0\n",
    "    \n",
    "    for i in range(k,len(num)):\n",
    "        if num[i]=='.':\n",
    "            if ct==0:\n",
    "                ct=1\n",
    "            else:\n",
    "                break\n",
    "        elif num[i]>='0' and num[i]<='9':\n",
    "            continue\n",
    "        else:\n",
    "            break\n",
    "     \n",
    "    if len(num)==1:\n",
    "        print(\"False\")\n",
    "    elif i==len(num)-1:\n",
    "        print(\"True\")\n",
    "    else:\n",
    "        print(\"False\")\n",
    "    \n",
    "    t-=1\n",
    "        \n"
   ]
  },
  {
   "cell_type": "code",
   "execution_count": 2,
   "metadata": {},
   "outputs": [
    {
     "name": "stdout",
     "output_type": "stream",
     "text": [
      "100,000,000.000\n",
      "100\n",
      "000\n",
      "000\n",
      "000\n"
     ]
    }
   ],
   "source": [
    "# Question 2:\n",
    "\n",
    "regex_pattern = r\"[,.]+\"\n",
    "\n",
    "import re\n",
    "print(\"\\n\".join(re.split(regex_pattern, input())))"
   ]
  },
  {
   "cell_type": "code",
   "execution_count": 3,
   "metadata": {},
   "outputs": [
    {
     "name": "stdout",
     "output_type": "stream",
     "text": [
      "..12345678910111213141516171820212223\n",
      "1\n"
     ]
    }
   ],
   "source": [
    "# Question 3:\n",
    "\n",
    "st=input()\n",
    "f=0\n",
    "for i in range(len(st)-1):\n",
    "    if (st[i]>='a' and st[i]<='z') or(st[i]>='A' and st[i]<='Z') or(st[i]>='0' and st[i]<='9'):\n",
    "        if st[i]==st[i+1]:\n",
    "            f=1\n",
    "            break\n",
    "        \n",
    "if f==1:\n",
    "    print(st[i])\n",
    "else:\n",
    "    print(\"-1\")\n"
   ]
  },
  {
   "cell_type": "code",
   "execution_count": 4,
   "metadata": {},
   "outputs": [
    {
     "name": "stdout",
     "output_type": "stream",
     "text": [
      "rabcdeefgyYhFjkIoomnpOeorteeeeet\n",
      "ee\n",
      "Ioo\n",
      "Oeo\n",
      "eeeee\n"
     ]
    }
   ],
   "source": [
    "# Question 4:\n",
    "\n",
    "st=input()\n",
    "\n",
    "vow=0\n",
    "ct=0\n",
    "for i in range(len(st)):\n",
    "    if st[i]=='a' or st[i]=='e' or st[i]=='i' or st[i]=='o' or st[i]=='u' or st[i]=='A'      or st[i]=='E' or st[i]=='I' or st[i]=='O' or st[i]=='U':\n",
    "        vow+=1\n",
    "        \n",
    "    else:\n",
    "        if vow>=2:\n",
    "            ct+=1\n",
    "            print(st[i-vow:i])\n",
    "        vow=0\n",
    "\n",
    "if ct==0:\n",
    "    print(\"-1\")\n"
   ]
  },
  {
   "cell_type": "code",
   "execution_count": 5,
   "metadata": {},
   "outputs": [
    {
     "name": "stdout",
     "output_type": "stream",
     "text": [
      "aaadaa\n",
      "aa\n",
      "(0, 1)\n",
      "(1, 2)\n",
      "(4, 5)\n"
     ]
    }
   ],
   "source": [
    "# Question 5:\n",
    "\n",
    "import re\n",
    "\n",
    "st=input()\n",
    "k=input()\n",
    "\n",
    "lst=[-1,-1]\n",
    "ct=0\n",
    "for i in range(len(st)-len(k)+1):\n",
    "    f=1\n",
    "    for j in range(len(k)):\n",
    "        if st[i+j]!=k[j]:\n",
    "            f=0\n",
    "            break\n",
    "    \n",
    "    if f==1:\n",
    "        lst[0]=i\n",
    "        lst[1]=i+len(k)-1\n",
    "        ct=1\n",
    "        t=tuple(lst)\n",
    "        print(t)\n",
    "\n",
    "\n",
    "t=tuple(lst)\n",
    "if ct==0:\n",
    "    print(t)\n",
    "\n"
   ]
  },
  {
   "cell_type": "code",
   "execution_count": null,
   "metadata": {},
   "outputs": [
    {
     "name": "stdout",
     "output_type": "stream",
     "text": [
      "11\n",
      "\n",
      "\n",
      "a = 1;\n",
      "a = 1;\n",
      "b = input();\n",
      "b = input();\n",
      "\n",
      "\n",
      "if a + b > 0 && a - b < 0:\n",
      "if a + b > 0 and a - b < 0:\n"
     ]
    }
   ],
   "source": [
    "# Question 6:\n",
    "\n",
    "n=int(input())\n",
    "\n",
    "for i in range(n):\n",
    "    line=input()\n",
    "    \n",
    "    if len(line)==0:\n",
    "        print()\n",
    "        continue\n",
    "    \n",
    "    if line[0]=='#':\n",
    "        print(line)\n",
    "        continue\n",
    "    \n",
    "    while ' && ' in line or ' || ' in line:\n",
    "        line = line.replace(\" && \", \" and \").replace(\" || \", \" or \")\n",
    "    print(line)\n",
    "        \n"
   ]
  },
  {
   "cell_type": "code",
   "execution_count": null,
   "metadata": {},
   "outputs": [],
   "source": [
    "# Question 7:\n",
    "\n",
    "import re\n",
    "\n",
    "thousand = \"(?:(M){0,3})?\"\n",
    "hundred  = \"(?:(D?(C){0,3})|(CM)|(CD))?\"\n",
    "ten      = \"(?:(L?(X){0,3})|(XC)|(XL))?\"\n",
    "unit     = \"(?:(V?(I){0,3})|(IX)|(IV))?\"\n",
    "\n",
    "regex_pattern = r\"^\" + thousand + hundred + ten + unit + \"$\"\n",
    "\n",
    "print(str(bool(re.match(regex_pattern, input()))))"
   ]
  },
  {
   "cell_type": "code",
   "execution_count": null,
   "metadata": {},
   "outputs": [],
   "source": [
    "# Question 8:\n",
    "\n",
    "t=int(input())\n",
    "\n",
    "while t:\n",
    "    num= input()\n",
    "    \n",
    "    n=len(num)\n",
    "    if n!=10:\n",
    "        print(\"NO\")\n",
    "    else:\n",
    "        f=1\n",
    "        if num[0]=='7' or num[0]=='8' or num[0]=='9':\n",
    "            for i in range(1,10):\n",
    "                if num[i]>='0' and num[i]<='9':\n",
    "                    continue\n",
    "                else:\n",
    "                    f=0\n",
    "                    break\n",
    "            \n",
    "            if f==1:\n",
    "                print(\"YES\")\n",
    "            else:\n",
    "                print(\"NO\")\n",
    "        else:\n",
    "            print(\"NO\")\n",
    "                \n",
    "                \n",
    "    t-=1\n",
    "                \n"
   ]
  },
  {
   "cell_type": "code",
   "execution_count": null,
   "metadata": {},
   "outputs": [],
   "source": [
    "# Question 9:\n",
    "\n",
    "import email.utils\n",
    "import re\n",
    "\n",
    "def main():\n",
    "    pattern = re.compile(r\"^[a-zA-Z][\\w\\-._]*@[a-zA-Z]+\\.[a-zA-Z]{1,3}$\")\n",
    "    for i in range(int(input())):\n",
    "        u_name, u_email = email.utils.parseaddr(input())\n",
    "        if pattern.match(u_email):\n",
    "            print(email.utils.formataddr((u_name, u_email)))\n",
    "\n",
    "if __name__ == \"__main__\":\n",
    "    main()\n"
   ]
  },
  {
   "cell_type": "code",
   "execution_count": null,
   "metadata": {},
   "outputs": [],
   "source": [
    "# Question 10:\n",
    "\n",
    "import re\n",
    "for i in range(int(input())):\n",
    "    matches = re.findall(r':?.(#[0-9a-fA-F]{6}|#[0-9a-fA-F]{3})', input())\n",
    "    if matches:\n",
    "        print(*matches, sep='\\n')\n"
   ]
  },
  {
   "cell_type": "code",
   "execution_count": null,
   "metadata": {},
   "outputs": [],
   "source": [
    "# Question 11:\n",
    "\n",
    "\n",
    "from html.parser import HTMLParser\n",
    "\n",
    "class MyHTMLParser(HTMLParser):\n",
    "    def handle_starttag(self, tag, attrs):\n",
    "        print (\"Start :\", tag)\n",
    "        for j in range(len(attrs)):\n",
    "            print(\"->\",attrs[j][0],\">\",attrs[j][1])\n",
    "    def handle_endtag(self, tag):\n",
    "        print (\"End   :\", tag)\n",
    "    def handle_startendtag(self, tag, attrs):\n",
    "        print (\"Empty :\", tag)\n",
    "        for ele in attrs:\n",
    "            print ('->',ele[0],'>',ele[1])\n",
    "\n",
    "n=int(input())\n",
    "parser = MyHTMLParser()\n",
    "for i in range(n):\n",
    "    line=input().strip()\n",
    "    parser.feed(line)\n",
    "    \n",
    "        \n"
   ]
  },
  {
   "cell_type": "code",
   "execution_count": null,
   "metadata": {},
   "outputs": [],
   "source": [
    "# Question 12:\n",
    "\n",
    "from html.parser import HTMLParser\n",
    "\n",
    "class MyHTMLParser(HTMLParser):\n",
    "    def handle_comment(self, data):\n",
    "        number_of_line = len(data.split('\\n'))\n",
    "        if number_of_line>1:\n",
    "            print('>>> Multi-line Comment')\n",
    "        else:\n",
    "            print('>>> Single-line Comment')\n",
    "        if data.strip():\n",
    "            print(data)\n",
    "\n",
    "    def handle_data(self, data):\n",
    "        if data.strip():\n",
    "            print(\">>> Data\")\n",
    "            print(data)\n",
    "\n",
    "            \n",
    "html = \"\"       \n",
    "for i in range(int(input())):\n",
    "    html += input().rstrip()\n",
    "    html += '\\n'\n",
    "    \n",
    "parser = MyHTMLParser()\n",
    "parser.feed(html)\n",
    "parser.close()\n"
   ]
  },
  {
   "cell_type": "code",
   "execution_count": null,
   "metadata": {},
   "outputs": [],
   "source": [
    "# Question 13:\n",
    "\n",
    "\n",
    "from html.parser import HTMLParser\n",
    "\n",
    "class MyHTMLParser(HTMLParser):\n",
    "    def handle_starttag(self, tag, attrs):\n",
    "        print (tag)\n",
    "        for j in range(len(attrs)):\n",
    "            print(\"->\",attrs[j][0],\">\",attrs[j][1])\n",
    "    \n",
    "    def handle_startendtag(self, tag, attrs):\n",
    "        print (tag)\n",
    "        for ele in attrs:\n",
    "            print ('->',ele[0],'>',ele[1])\n",
    "\n",
    "n=int(input())\n",
    "parser = MyHTMLParser()\n",
    "for i in range(n):\n",
    "    line=input().strip()\n",
    "    parser.feed(line)\n",
    "    "
   ]
  },
  {
   "cell_type": "code",
   "execution_count": null,
   "metadata": {},
   "outputs": [],
   "source": [
    "# Question 14:\n",
    "\n",
    "t=int(input())\n",
    "while t:\n",
    "    uid=input()\n",
    "    s=set()\n",
    "    ct_num=0\n",
    "    ct_alp=0\n",
    "    f=1\n",
    "    \n",
    "    for i in range(len(uid)):\n",
    "        s.add(uid[i])\n",
    "    \n",
    "    if(len(uid)==10 and len(s)==10):\n",
    "        for i in range(len(uid)):\n",
    "                 \n",
    "            if uid[i]>='0' and uid[i]<='9':\n",
    "                ct_num+=1\n",
    "            elif uid[i]>='A' and uid[i]<='Z':\n",
    "                ct_alp+=1\n",
    "            elif uid[i]>='a' and uid[i]<='z':\n",
    "                continue\n",
    "            else:\n",
    "                f=0\n",
    "                break\n",
    "    else:\n",
    "        f=0\n",
    "                       \n",
    "    if f==1 and ct_num>=3 and ct_alp>=2:\n",
    "        print(\"Valid\")\n",
    "    else:\n",
    "        print(\"Invalid\")\n",
    "    \n",
    "    t-=1\n",
    "    "
   ]
  },
  {
   "cell_type": "code",
   "execution_count": null,
   "metadata": {},
   "outputs": [],
   "source": [
    "# Question 15:\n",
    "\n",
    "import re\n",
    "\n",
    "for _ in range(int(input())):\n",
    "    s = input()\n",
    "\n",
    "    if re.match(r\"^[456]([\\d]{15}|[\\d]{3}(-[\\d]{4}){3})$\", s) and not re.search(r\"([\\d])\\1\\1\\1\", s.replace(\"-\", \"\")):\n",
    "        print(\"Valid\")\n",
    "    else:\n",
    "        print(\"Invalid\")\n"
   ]
  },
  {
   "cell_type": "code",
   "execution_count": null,
   "metadata": {},
   "outputs": [],
   "source": [
    "# Question 16:\n",
    "\n",
    "regex_integer_in_range = r\"[1-9][0-9]{5}$\"\n",
    "regex_alternating_repetitive_digit_pair = r\"(\\d)(?=\\d\\1)\"\n",
    "\n",
    "\n",
    "import re\n",
    "P = input()\n",
    "\n",
    "print (bool(re.match(regex_integer_in_range, P)) \n",
    "and len(re.findall(regex_alternating_repetitive_digit_pair, P)) < 2)"
   ]
  },
  {
   "cell_type": "code",
   "execution_count": null,
   "metadata": {},
   "outputs": [],
   "source": [
    "# Question 17:\n",
    "\n",
    "#!/bin/python3\n",
    "\n",
    "import math\n",
    "import os\n",
    "import random\n",
    "import re\n",
    "import sys\n",
    "\n",
    "\n",
    "\n",
    "\n",
    "first_multiple_input = input().rstrip().split()\n",
    "\n",
    "n = int(first_multiple_input[0])\n",
    "\n",
    "m = int(first_multiple_input[1])\n",
    "\n",
    "matrix = []\n",
    "\n",
    "for _ in range(n):\n",
    "    matrix_item = input()\n",
    "    matrix.append(matrix_item)\n",
    "\n",
    "st=\"\"\n",
    "for j in range(m):\n",
    "    for i in range(n):\n",
    "        st+=matrix[i][j]\n",
    "        \n",
    "print(re.sub(r\"(?<=\\w)([^\\w]+)(?=\\w)\", \" \", st))       \n"
   ]
  },
  {
   "cell_type": "code",
   "execution_count": null,
   "metadata": {},
   "outputs": [],
   "source": []
  }
 ],
 "metadata": {
  "kernelspec": {
   "display_name": "Python 3",
   "language": "python",
   "name": "python3"
  },
  "language_info": {
   "codemirror_mode": {
    "name": "ipython",
    "version": 3
   },
   "file_extension": ".py",
   "mimetype": "text/x-python",
   "name": "python",
   "nbconvert_exporter": "python",
   "pygments_lexer": "ipython3",
   "version": "3.8.3"
  }
 },
 "nbformat": 4,
 "nbformat_minor": 4
}
