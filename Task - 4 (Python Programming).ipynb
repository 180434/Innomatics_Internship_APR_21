{
 "cells": [
  {
   "cell_type": "code",
   "execution_count": 6,
   "metadata": {},
   "outputs": [
    {
     "name": "stdout",
     "output_type": "stream",
     "text": [
      "AjhdBwdhwhSH\n",
      "aJHDbWDHWHsh\n"
     ]
    }
   ],
   "source": [
    "# Question 1:\n",
    "\n",
    "def swap_case(s):\n",
    "    n=len(s)\n",
    "    ans=\"\"\n",
    "    for i in range(n):\n",
    "        if s[i]>='a' and s[i]<='z':\n",
    "            ans=ans+ s[i].upper()\n",
    "        elif s[i]>='A' and s[i]<='Z':\n",
    "            ans=ans+ s[i].lower()\n",
    "        else:\n",
    "            ans=ans+s[i]        \n",
    "    return ans\n",
    "\n",
    "if __name__ == '__main__':\n",
    "    s = input()\n",
    "    result = swap_case(s)\n",
    "    print(result)"
   ]
  },
  {
   "cell_type": "code",
   "execution_count": 8,
   "metadata": {},
   "outputs": [
    {
     "name": "stdout",
     "output_type": "stream",
     "text": [
      "this is a string\n",
      "this-is-a-string\n"
     ]
    }
   ],
   "source": [
    "# Question 2:\n",
    "\n",
    "def split_and_join(line):\n",
    "    line=line.split(' ')\n",
    "    line=\"-\".join(line)\n",
    "    return line\n",
    "\n",
    "if __name__ == '__main__':\n",
    "    line = input()\n",
    "    result = split_and_join(line)\n",
    "    print(result)"
   ]
  },
  {
   "cell_type": "code",
   "execution_count": 9,
   "metadata": {},
   "outputs": [
    {
     "name": "stdout",
     "output_type": "stream",
     "text": [
      "Aniket\n",
      "Kumar\n",
      "Hello Aniket Kumar! You just delved into python.\n"
     ]
    }
   ],
   "source": [
    "# Question 3:\n",
    "\n",
    "\n",
    "def print_full_name(first, last):\n",
    "    print(\"Hello \"+first+\" \"+last+\"! You just delved into python.\")\n",
    "    return \n",
    "    \n",
    "\n",
    "if __name__ == '__main__':\n",
    "    first_name = input()\n",
    "    last_name = input()\n",
    "    print_full_name(first_name, last_name)"
   ]
  },
  {
   "cell_type": "code",
   "execution_count": 10,
   "metadata": {},
   "outputs": [
    {
     "name": "stdout",
     "output_type": "stream",
     "text": [
      "abcdefg\n",
      "3 k\n",
      "abckefg\n"
     ]
    }
   ],
   "source": [
    "# Question 4:\n",
    "\n",
    "def mutate_string(string, position, character):\n",
    "    ans=string[:position]+character+string[position+1:]\n",
    "    return ans\n",
    "\n",
    "if __name__ == '__main__':\n",
    "    s = input()\n",
    "    i, c = input().split()\n",
    "    s_new = mutate_string(s, int(i), c)\n",
    "    print (s_new)"
   ]
  },
  {
   "cell_type": "code",
   "execution_count": 12,
   "metadata": {},
   "outputs": [
    {
     "name": "stdout",
     "output_type": "stream",
     "text": [
      "ABCDCDC\n",
      "CDC\n",
      "2\n"
     ]
    }
   ],
   "source": [
    "# Question 5:\n",
    "\n",
    "def count_substring(string, sub_string):\n",
    "    n=len(string)\n",
    "    m=len(sub_string)\n",
    "    ans=0\n",
    "    for i in range(n-m+1):\n",
    "        if string[i:i+m]==sub_string:\n",
    "            ans+=1\n",
    "    return ans\n",
    "\n",
    "if __name__ == '__main__':\n",
    "    string = input().strip()\n",
    "    sub_string =input().strip()\n",
    "    \n",
    "    count = count_substring(string, sub_string)\n",
    "    print(count)"
   ]
  },
  {
   "cell_type": "code",
   "execution_count": 14,
   "metadata": {},
   "outputs": [
    {
     "name": "stdout",
     "output_type": "stream",
     "text": [
      "qA4\n",
      "True\n",
      "True\n",
      "True\n",
      "True\n",
      "True\n"
     ]
    }
   ],
   "source": [
    "# Question 6:\n",
    "\n",
    "if __name__ == '__main__':\n",
    "    s = input()\n",
    "    n=len(s)\n",
    "    t=0\n",
    "    for i in range(n):\n",
    "        if (s[i]>='a' and s[i]<='z') or (s[i]>='A' and s[i]<='Z') or (s[i]>='0' and s[i]<='9'):\n",
    "            t=1\n",
    "            break\n",
    "    if t==1:\n",
    "        print(\"True\")\n",
    "    else:\n",
    "        print(\"False\")\n",
    "        \n",
    "    t=0\n",
    "    for i in range(n):\n",
    "        if (s[i]>='a' and s[i]<='z') or (s[i]>='A' and s[i]<='Z'):\n",
    "            t=1\n",
    "            break\n",
    "    if t==1:\n",
    "        print(\"True\")\n",
    "    else:\n",
    "        print(\"False\")\n",
    "        \n",
    "    t=0\n",
    "    \n",
    "    for i in range(n):\n",
    "        if (s[i]>='0' and s[i]<='9'):\n",
    "            t=1\n",
    "            break\n",
    "    if t==1:\n",
    "        print(\"True\")\n",
    "    else:\n",
    "        print(\"False\")\n",
    "        \n",
    "    t=0\n",
    "    \n",
    "    for i in range(n):\n",
    "        if s[i]>='a' and s[i]<='z':\n",
    "            t=1\n",
    "            break\n",
    "    if t==1:\n",
    "        print(\"True\")\n",
    "    else:\n",
    "        print(\"False\")\n",
    "        \n",
    "    t=0\n",
    "    \n",
    "    for i in range(n):\n",
    "        if s[i]>='A' and s[i]<='Z':\n",
    "            t=1\n",
    "            break\n",
    "    if t==1:\n",
    "        print(\"True\")\n",
    "    else:\n",
    "        print(\"False\")\n",
    "        "
   ]
  },
  {
   "cell_type": "code",
   "execution_count": 24,
   "metadata": {},
   "outputs": [
    {
     "name": "stdout",
     "output_type": "stream",
     "text": [
      "5\n",
      "    H    \n",
      "   HHH   \n",
      "  HHHHH  \n",
      " HHHHHHH \n",
      "HHHHHHHHH\n",
      "  HHHHH               HHHHH             \n",
      "  HHHHH               HHHHH             \n",
      "  HHHHH               HHHHH             \n",
      "  HHHHH               HHHHH             \n",
      "  HHHHH               HHHHH             \n",
      "  HHHHH               HHHHH             \n",
      "  HHHHHHHHHHHHHHHHHHHHHHHHH   \n",
      "  HHHHHHHHHHHHHHHHHHHHHHHHH   \n",
      "  HHHHHHHHHHHHHHHHHHHHHHHHH   \n",
      "  HHHHH               HHHHH             \n",
      "  HHHHH               HHHHH             \n",
      "  HHHHH               HHHHH             \n",
      "  HHHHH               HHHHH             \n",
      "  HHHHH               HHHHH             \n",
      "  HHHHH               HHHHH             \n",
      "                    HHHHHHHHH \n",
      "                     HHHHHHH  \n",
      "                      HHHHH   \n",
      "                       HHH    \n",
      "                        H     \n"
     ]
    }
   ],
   "source": [
    "# Question 7: \n",
    "\n",
    "thickness = int(input())\n",
    "c = 'H'\n",
    "\n",
    "for i in range(thickness):\n",
    "    print ((c*i).rjust(thickness-1)+c+(c*i).ljust(thickness-1))\n",
    "\n",
    "for i in range(thickness+1):\n",
    "    print ((c*thickness).center(thickness*2)+(c*thickness).center(thickness*6))\n",
    "\n",
    "for i in range((thickness+1)//2):\n",
    "    print ((c*thickness*5).center(thickness*6))   \n",
    "\n",
    "for i in range(thickness+1):\n",
    "    print ((c*thickness).center(thickness*2)+(c*thickness).center(thickness*6))    \n",
    "\n",
    "for i in range(thickness):\n",
    "    print (((c*(thickness-i-1)).rjust(thickness)+c+(c*(thickness-i-1)).ljust(thickness)).rjust(thickness*6))"
   ]
  },
  {
   "cell_type": "code",
   "execution_count": 26,
   "metadata": {},
   "outputs": [
    {
     "name": "stdout",
     "output_type": "stream",
     "text": [
      "ABCDEFGHIJKLMNOPQRSTUVWXYZ\n",
      "4\n",
      "ABCD\n",
      "EFGH\n",
      "IJKL\n",
      "MNOP\n",
      "QRST\n",
      "UVWX\n",
      "YZ\n"
     ]
    }
   ],
   "source": [
    "# Question 8:\n",
    "\n",
    "import textwrap\n",
    "\n",
    "def wrap(string, max_width):\n",
    "      \n",
    "    return \"\\n\".join([string[i:i+max_width] for i in range(0, len(string), max_width)])\n",
    "\n",
    "if __name__ == '__main__':\n",
    "    string, max_width = input(), int(input())\n",
    "    result = wrap(string, max_width)\n",
    "    print(result)"
   ]
  },
  {
   "cell_type": "code",
   "execution_count": 27,
   "metadata": {},
   "outputs": [
    {
     "name": "stdout",
     "output_type": "stream",
     "text": [
      "7 21\n",
      "---------.|.---------\n",
      "------.|..|..|.------\n",
      "---.|..|..|..|..|.---\n",
      "-------WELCOME-------\n",
      "---.|..|..|..|..|.---\n",
      "------.|..|..|.------\n",
      "---------.|.---------\n"
     ]
    }
   ],
   "source": [
    "# Question 9:\n",
    "\n",
    "lst=list(map(int,input().split()))\n",
    "\n",
    "st=\".|.\"\n",
    "t=\".|.\"\n",
    "for i in range(lst[0]//2):\n",
    "    print(st.center(lst[1],'-'))\n",
    "    st+=t+t\n",
    "    \n",
    "print(\"WELCOME\".center(lst[1],'-'))\n",
    "\n",
    "st=st[6:]\n",
    "for i in range(lst[0]//2):\n",
    "    print(st.center(lst[1],'-'))\n",
    "    st=st[6:]\n",
    "    "
   ]
  },
  {
   "cell_type": "code",
   "execution_count": 28,
   "metadata": {},
   "outputs": [
    {
     "name": "stdout",
     "output_type": "stream",
     "text": [
      "10\n",
      "   1    1    1    1 \n",
      "   2    2    2   10 \n",
      "   3    3    3   11 \n",
      "   4    4    4  100 \n",
      "   5    5    5  101 \n",
      "   6    6    6  110 \n",
      "   7    7    7  111 \n",
      "   8   10    8 1000 \n",
      "   9   11    9 1001 \n",
      "  10   12    A 1010 \n"
     ]
    }
   ],
   "source": [
    "# Question 10:\n",
    "\n",
    "def print_formatted(number):\n",
    "    n=bin(number).replace(\"0b\",\"\")\n",
    "    t=len(n)\n",
    "    \n",
    "    for i in range(1,number+1):\n",
    "        print(str(i).rjust(t),end=' ')\n",
    "        print(oct(i).replace(\"0o\",\"\").rjust(t),end=' ')\n",
    "        st=hex(i).replace(\"0x\",\"\")\n",
    "        st=st.replace(\"a\",\"A\")\n",
    "        st=st.replace(\"b\",\"B\")\n",
    "        st=st.replace(\"c\",\"C\")\n",
    "        st=st.replace(\"d\",\"D\")\n",
    "        st=st.replace(\"e\",\"E\")\n",
    "        st=st.replace(\"f\",\"F\")\n",
    "        print(st.rjust(t),end=' ')\n",
    "        print(bin(i).replace(\"0b\",\"\").rjust(t),end=' ')\n",
    "        print()\n",
    "\n",
    "if __name__ == '__main__':\n",
    "    n = int(input())\n",
    "    print_formatted(n)"
   ]
  },
  {
   "cell_type": "code",
   "execution_count": 29,
   "metadata": {},
   "outputs": [
    {
     "name": "stdout",
     "output_type": "stream",
     "text": [
      "5\n",
      "--------e--------\n",
      "------e-d-e------\n",
      "----e-d-c-d-e----\n",
      "--e-d-c-b-c-d-e--\n",
      "e-d-c-b-a-b-c-d-e\n",
      "--e-d-c-b-c-d-e--\n",
      "----e-d-c-d-e----\n",
      "------e-d-e------\n",
      "--------e--------\n"
     ]
    }
   ],
   "source": [
    "# Question 11:\n",
    "\n",
    "def print_rangoli(size):\n",
    "    t=size*2-1\n",
    "    t=2*t-1\n",
    "    \n",
    "    c= 97+size-1\n",
    "    ch=chr(c)\n",
    "    \n",
    "    for i in range(size-1):\n",
    "        print(ch.center(t,'-'))\n",
    "        c-=1\n",
    "        n=len(ch)\n",
    "        st=ch[0:(n//2)+1]\n",
    "        ch=st+\"-\"+chr(c)+\"-\"+st[::-1]\n",
    "    \n",
    "    print(ch)\n",
    "    \n",
    "    for i in range(size-1):\n",
    "        n=len(ch)\n",
    "        ch=ch[0:(n//2)-1]+ch[(n//2)+3:]\n",
    "        print(ch.center(t,'-'))\n",
    "        \n",
    "\n",
    "if __name__ == '__main__':\n",
    "    n = int(input())\n",
    "    print_rangoli(n)"
   ]
  },
  {
   "cell_type": "code",
   "execution_count": 33,
   "metadata": {},
   "outputs": [
    {
     "name": "stdout",
     "output_type": "stream",
     "text": [
      "hello    aniket   kumar\n",
      "Hello    Aniket   Kumar\n"
     ]
    }
   ],
   "source": [
    "# Question 12:\n",
    "\n",
    "#!/bin/python3\n",
    "\n",
    "import math\n",
    "import os\n",
    "import random\n",
    "import re\n",
    "import sys\n",
    "\n",
    "def solve(s):  \n",
    "    \n",
    "    ans=\"\"\n",
    "    \n",
    "    f=0\n",
    "    for i in range(len(s)):\n",
    "        if s[i]==' ':\n",
    "            ans+=s[i]\n",
    "            f=0\n",
    "        elif f==0:\n",
    "            ch=s[i]\n",
    "            ch=ch.upper()\n",
    "            ans+=ch\n",
    "            f=1\n",
    "        else:\n",
    "            ans+=s[i]\n",
    "           \n",
    "    return ans\n",
    "\n",
    "s = input()\n",
    "result = solve(s)\n",
    "print(result)\n",
    "\n",
    "   \n"
   ]
  },
  {
   "cell_type": "code",
   "execution_count": 1,
   "metadata": {},
   "outputs": [
    {
     "name": "stdout",
     "output_type": "stream",
     "text": [
      "BANANA\n",
      "Stuart 12\n"
     ]
    }
   ],
   "source": [
    "# Question 13:\n",
    "\n",
    "def minion_game(st):\n",
    "    n=len(st)\n",
    "    \n",
    "    stuart=0\n",
    "    kevin=0\n",
    "    for i in range(n):\n",
    "        if st[i]=='A' or st[i]=='E' or st[i]=='I' or st[i]=='O' or st[i]=='U':\n",
    "            kevin+=(n-i)\n",
    "        else:\n",
    "            stuart+=(n-i)\n",
    "    \n",
    "    if(stuart>kevin):\n",
    "        print(\"Stuart\",stuart)\n",
    "    elif kevin>stuart:\n",
    "        print(\"Kevin\",kevin)\n",
    "    else:\n",
    "        print(\"Draw\")\n",
    "\n",
    "if __name__ == '__main__':\n",
    "    s = input()\n",
    "    minion_game(s)"
   ]
  },
  {
   "cell_type": "code",
   "execution_count": 2,
   "metadata": {},
   "outputs": [
    {
     "name": "stdout",
     "output_type": "stream",
     "text": [
      "AABCAAADA\n",
      "3\n",
      "AB\n",
      "CA\n",
      "AD\n"
     ]
    }
   ],
   "source": [
    "# Question 14:\n",
    "\n",
    "def merge_the_tools(string, k):\n",
    "    n=len(string)\n",
    "    \n",
    "    for i in range(0,n,k):\n",
    "        st=string[i:i+k]\n",
    "        s=set()\n",
    "        ans=\"\"\n",
    "        for j in range(k):\n",
    "            if st[j] in s:\n",
    "                continue\n",
    "            else:\n",
    "                ans+=st[j]\n",
    "                s.add(st[j])\n",
    "        \n",
    "        print(ans)\n",
    "                \n",
    "\n",
    "if __name__ == '__main__':\n",
    "    string, k = input(), int(input())\n",
    "    merge_the_tools(string, k)"
   ]
  }
 ],
 "metadata": {
  "kernelspec": {
   "display_name": "Python 3",
   "language": "python",
   "name": "python3"
  },
  "language_info": {
   "codemirror_mode": {
    "name": "ipython",
    "version": 3
   },
   "file_extension": ".py",
   "mimetype": "text/x-python",
   "name": "python",
   "nbconvert_exporter": "python",
   "pygments_lexer": "ipython3",
   "version": "3.8.3"
  }
 },
 "nbformat": 4,
 "nbformat_minor": 4
}
