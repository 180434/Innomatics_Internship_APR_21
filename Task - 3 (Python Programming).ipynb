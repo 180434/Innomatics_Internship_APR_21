{
 "cells": [
  {
   "cell_type": "code",
   "execution_count": 1,
   "metadata": {},
   "outputs": [
    {
     "name": "stdout",
     "output_type": "stream",
     "text": [
      "1+2j\n",
      "2.23606797749979\n",
      "1.1071487177940904\n"
     ]
    }
   ],
   "source": [
    "# Question 1:\n",
    "\n",
    "import math\n",
    "import cmath\n",
    "\n",
    "n=input()\n",
    "t=0\n",
    "s=\"\"\n",
    "st=\"\"\n",
    "if(n[0]=='-'):\n",
    "    s+='-'\n",
    "    t=1 \n",
    "\n",
    "for i in range(t,len(n)):\n",
    "    if(n[i]=='-' or n[i]=='+'):\n",
    "        break \n",
    "    s+=n[i]\n",
    "\n",
    "t=i\n",
    "\n",
    "if(n[t]=='-'):\n",
    "    st+='-'\n",
    "    \n",
    "t+=1 \n",
    "   \n",
    "for i in range(t,len(n)):\n",
    "    if(n[i]=='-' or n[i]=='+' or n[i]=='j'):\n",
    "        break \n",
    "    st+=n[i]\n",
    "\n",
    "x=int(s)\n",
    "y=int(st)\n",
    "print(abs(complex(x,y)))\n",
    "print(cmath.phase(complex(x, y)))"
   ]
  },
  {
   "cell_type": "code",
   "execution_count": 2,
   "metadata": {},
   "outputs": [
    {
     "name": "stdout",
     "output_type": "stream",
     "text": [
      "10\n",
      "10\n",
      "45°\n"
     ]
    }
   ],
   "source": [
    "# Question 2:\n",
    "\n",
    "import math\n",
    "import string\n",
    "\n",
    "pq=int(input())\n",
    "pr=int(input())\n",
    "qr=(pq*pq+pr*pr)**0.5\n",
    "\n",
    "ans=math.asin(pq/qr)\n",
    "\n",
    "ans=round(math.degrees(ans))\n",
    "\n",
    "ch=chr(176)\n",
    "\n",
    "k=str(ans)\n",
    "print(k+ch)\n"
   ]
  },
  {
   "cell_type": "code",
   "execution_count": 3,
   "metadata": {},
   "outputs": [
    {
     "name": "stdout",
     "output_type": "stream",
     "text": [
      "4\n",
      "1\n",
      "121\n",
      "12321\n",
      "1234321\n"
     ]
    }
   ],
   "source": [
    "# Question 3:\n",
    "\n",
    "for i in range(1,int(input())+1):\n",
    "    print((((10**i)-1)//9)**2)\n"
   ]
  },
  {
   "cell_type": "code",
   "execution_count": 4,
   "metadata": {},
   "outputs": [
    {
     "name": "stdout",
     "output_type": "stream",
     "text": [
      "177\n",
      "10\n",
      "17\n",
      "7\n",
      "(17, 7)\n"
     ]
    }
   ],
   "source": [
    "# Question 4:\n",
    "\n",
    "import math\n",
    "\n",
    "a=int(input())\n",
    "b=int(input())\n",
    "\n",
    "print(a//b)\n",
    "print(a%b)\n",
    "print(divmod(a,b))"
   ]
  },
  {
   "cell_type": "code",
   "execution_count": 5,
   "metadata": {},
   "outputs": [
    {
     "name": "stdout",
     "output_type": "stream",
     "text": [
      "3\n",
      "4\n",
      "5\n",
      "81\n",
      "1\n"
     ]
    }
   ],
   "source": [
    "# Question 5:\n",
    "\n",
    "import math\n",
    "a=int(input())\n",
    "b=int(input())\n",
    "m=int(input())\n",
    "\n",
    "print(pow(a,b))\n",
    "print(pow(a,b,m))"
   ]
  },
  {
   "cell_type": "code",
   "execution_count": 6,
   "metadata": {},
   "outputs": [
    {
     "name": "stdout",
     "output_type": "stream",
     "text": [
      "9\n",
      "29\n",
      "7\n",
      "27\n",
      "4710194409608608369201743232\n"
     ]
    }
   ],
   "source": [
    "# Question 6:\n",
    "\n",
    "import math\n",
    "\n",
    "a=int(input())\n",
    "b=int(input())\n",
    "c=int(input())\n",
    "d=int(input())\n",
    "\n",
    "print(pow(a,b)+pow(c,d))"
   ]
  },
  {
   "cell_type": "code",
   "execution_count": 7,
   "metadata": {},
   "outputs": [
    {
     "name": "stdout",
     "output_type": "stream",
     "text": [
      "5\n",
      "1\n",
      "22\n",
      "333\n",
      "4444\n"
     ]
    }
   ],
   "source": [
    "# Question 7:\n",
    "\n",
    "for i in range(1,int(input())): \n",
    "    print(((pow(10,i)-1)//9)*i)\n",
    "    "
   ]
  },
  {
   "cell_type": "code",
   "execution_count": null,
   "metadata": {},
   "outputs": [],
   "source": []
  }
 ],
 "metadata": {
  "kernelspec": {
   "display_name": "Python 3",
   "language": "python",
   "name": "python3"
  },
  "language_info": {
   "codemirror_mode": {
    "name": "ipython",
    "version": 3
   },
   "file_extension": ".py",
   "mimetype": "text/x-python",
   "name": "python",
   "nbconvert_exporter": "python",
   "pygments_lexer": "ipython3",
   "version": "3.8.3"
  }
 },
 "nbformat": 4,
 "nbformat_minor": 4
}
